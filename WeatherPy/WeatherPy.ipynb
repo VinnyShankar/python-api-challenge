{
 "cells": [
  {
   "cell_type": "markdown",
   "id": "fef0dd46",
   "metadata": {},
   "source": [
    "# WeatherPy\n",
    "\n",
    "---\n",
    "\n",
    "## Starter Code to Generate Random Geographic Coordinates and a List of Cities"
   ]
  },
  {
   "cell_type": "code",
   "execution_count": 1,
   "id": "236b6f64",
   "metadata": {},
   "outputs": [],
   "source": [
    "#Dependencies\n",
    "import matplotlib.pyplot as plt\n",
    "import pandas as pd\n",
    "import numpy as np\n",
    "import requests\n",
    "import time\n",
    "from scipy.stats import linregress\n",
    "\n",
    "#API Keys\n",
    "from api_keys import weather_api_key\n",
    "\n",
    "#Import cities\n",
    "from citipy import citipy"
   ]
  },
  {
   "cell_type": "markdown",
   "id": "206e0db1",
   "metadata": {},
   "source": [
    "### Generate the Cities List by Using the `citipy` Library"
   ]
  },
  {
   "cell_type": "code",
   "execution_count": 2,
   "id": "f2a37617",
   "metadata": {},
   "outputs": [
    {
     "name": "stdout",
     "output_type": "stream",
     "text": [
      "Number of cities in the list: 568\n"
     ]
    }
   ],
   "source": [
    "#List of latitudes and longitudes\n",
    "lat_lngs = []\n",
    "\n",
    "#List of cities\n",
    "cities = []\n",
    "\n",
    "#Range of lats and lngs\n",
    "lat_range = (-90,90)\n",
    "lng_range = (-180,180)\n",
    "\n",
    "#Randomly generate latitudes and longitudes\n",
    "lats = np.random.uniform(lat_range[0],lat_range[1],size=1500)\n",
    "lngs = np.random.uniform(lng_range[0],lng_range[1],size=1500)\n",
    "lat_lngs = zip(lats,lngs)\n",
    "\n",
    "#Find the nearest city for each coordinate pair\n",
    "for lat_lng in lat_lngs:\n",
    "    city = citipy.nearest_city(lat_lng[0],lat_lng[1]).city_name\n",
    "    \n",
    "    #Add unique cities to cities list\n",
    "    if city not in cities:\n",
    "        cities.append(city)\n",
    "\n",
    "#Print the city count to confirm sufficient count\n",
    "print(f\"Number of cities in the list: {len(cities)}\")"
   ]
  },
  {
   "cell_type": "markdown",
   "id": "c6dc46ed",
   "metadata": {},
   "source": [
    "## Requirement 1: Create Plots to Showcase the Relationship Between Weather Variables and Latitude\n",
    "\n",
    "### Use the OpenWeatherMap API to retrieve weather data from the cities list generated in the started code"
   ]
  },
  {
   "cell_type": "code",
   "execution_count": null,
   "id": "43445f73",
   "metadata": {},
   "outputs": [],
   "source": [
    "#Base URL\n",
    "url = f\"http://api.openweathermap.org/data/2.5/weather?appid={weather_api_key}&units=metric&q=\"\n",
    "\n",
    "#City data list\n",
    "city_data = []\n",
    "\n"
   ]
  },
  {
   "cell_type": "code",
   "execution_count": null,
   "id": "3367f0d6",
   "metadata": {},
   "outputs": [],
   "source": []
  },
  {
   "cell_type": "code",
   "execution_count": null,
   "id": "356cf473",
   "metadata": {},
   "outputs": [],
   "source": []
  },
  {
   "cell_type": "code",
   "execution_count": null,
   "id": "09bc4174",
   "metadata": {},
   "outputs": [],
   "source": []
  },
  {
   "cell_type": "code",
   "execution_count": null,
   "id": "d2e3ae28",
   "metadata": {},
   "outputs": [],
   "source": []
  },
  {
   "cell_type": "code",
   "execution_count": null,
   "id": "185742ad",
   "metadata": {},
   "outputs": [],
   "source": []
  },
  {
   "cell_type": "code",
   "execution_count": null,
   "id": "4227d1dc",
   "metadata": {},
   "outputs": [],
   "source": []
  },
  {
   "cell_type": "code",
   "execution_count": null,
   "id": "541a4166",
   "metadata": {},
   "outputs": [],
   "source": []
  },
  {
   "cell_type": "code",
   "execution_count": null,
   "id": "65c4864d",
   "metadata": {},
   "outputs": [],
   "source": []
  },
  {
   "cell_type": "code",
   "execution_count": null,
   "id": "010434d9",
   "metadata": {},
   "outputs": [],
   "source": []
  }
 ],
 "metadata": {
  "kernelspec": {
   "display_name": "PythonData",
   "language": "python",
   "name": "pythondata"
  },
  "language_info": {
   "codemirror_mode": {
    "name": "ipython",
    "version": 3
   },
   "file_extension": ".py",
   "mimetype": "text/x-python",
   "name": "python",
   "nbconvert_exporter": "python",
   "pygments_lexer": "ipython3",
   "version": "3.7.7"
  }
 },
 "nbformat": 4,
 "nbformat_minor": 5
}
